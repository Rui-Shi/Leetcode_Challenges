{
 "cells": [
  {
   "cell_type": "markdown",
   "metadata": {},
   "source": [
    "# PEP 8 – Style Guide for Python Code\n",
    "\n",
    "## Introduction\n",
    "\n",
    "PEP 8, sometimes written as PEP8 or PEP-8, is a document that provides guidelines and best practices on how to write Python code.  \"PEP\" stands for Python Enhancement Proposal.  PEP 8 is intended to improve the readability and consistency of Python code.  Following these guidelines makes your code easier for others (and your future self!) to understand, maintain, and collaborate on.  Consistency is key!\n",
    "\n",
    "## Key Guidelines (with Examples)\n",
    "\n",
    "Here are some of the most important guidelines from PEP 8, explained in detail with examples:\n",
    "\n"
   ]
  },
  {
   "cell_type": "markdown",
   "metadata": {},
   "source": [
    "## 1. Code Layout\n",
    "\n",
    "### 1.1 Indentation\n",
    "\n",
    "* **Use 4 spaces per indentation level**.  This is the strongly preferred method. Do not use tabs.  Mixing tabs and spaces will cause errors.  Most Python-aware editors can be configured to automatically insert 4 spaces when you press the Tab key.\n",
    "\n"
   ]
  },
  {
   "cell_type": "code",
   "execution_count": null,
   "metadata": {},
   "outputs": [],
   "source": [
    "# Correct:\n",
    "if condition:\n",
    "    do_something()\n",
    "    do_something_else()\n",
    "\n",
    "# Incorrect (using tabs):\n",
    "if condition:\n",
    "\tdo_something()  # This is a tab!\n",
    "\n",
    "# Incorrect (using 2 spaces):\n",
    "if condition:\n",
    "  do_something()"
   ]
  },
  {
   "cell_type": "markdown",
   "metadata": {},
   "source": [
    "### 1.2 Maximum Line Length\n",
    "\n",
    "* **Limit lines to a maximum of 79 characters.** This enhances readability, especially on smaller screens or when comparing code side-by-side.\n",
    "\n",
    "* **For docstrings and comments, limit lines to 72 characters.**\n",
    "\n",
    "* Use implied continuation (parentheses, brackets, and braces) or backslashes (\\\\) to break long lines.  Implied continuation is preferred."
   ]
  },
  {
   "cell_type": "code",
   "execution_count": null,
   "metadata": {},
   "outputs": [],
   "source": [
    "# Correct (implied continuation):\n",
    "my_very_long_variable_name = (\n",
    "    some_function_call() + another_function_call()\n",
    "    + yet_another_function_call()\n",
    ")\n",
    "\n",
    "# Correct (backslash, but less preferred):\n",
    "my_very_long_variable_name = some_function_call() \\\n",
    "                               + another_function_call() \\\n",
    "                               + yet_another_function_call()\n",
    "\n",
    "# Incorrect (too long):\n",
    "my_very_long_variable_name = some_function_call() + another_function_call() + yet_another_function_call()"
   ]
  },
  {
   "cell_type": "markdown",
   "metadata": {},
   "source": [
    "### 1.3 Blank Lines\n",
    "\n",
    "* Surround top-level function and class definitions with **two blank lines**.\n",
    "\n",
    "* Surround method definitions inside a class with **a single blank line**.   \n",
    "\n",
    "* Use blank lines sparingly within functions to separate logical sections of code.\n",
    "\n"
   ]
  },
  {
   "cell_type": "code",
   "execution_count": null,
   "metadata": {},
   "outputs": [],
   "source": [
    "# Example\n",
    "\n",
    "class MyClass:\n",
    "    def method_one(self):\n",
    "        pass\n",
    "\n",
    "    def method_two(self):\n",
    "        pass\n",
    "\n",
    "\n",
    "def my_function():\n",
    "    pass\n",
    "\n",
    "\n",
    "def another_function():\n",
    "    pass"
   ]
  },
  {
   "cell_type": "markdown",
   "metadata": {},
   "source": [
    "### 1.4 Imports\n",
    "\n",
    "* **Imports should usually be on separate lines.**\n",
    "\n",
    "* **Imports should always be placed at the top of the file**, just after any module comments and docstrings, and before module globals and constants.\n",
    "\n",
    "* **Group imports in this order:**\n",
    "1. Standard library imports.\n",
    "2. Related third-party imports.\n",
    "3. Local application/library specific imports. Put a blank line between each group of imports.\n",
    "\n",
    "* Use absolute imports or explicit relative imports. Avoid implicit relative imports (old Python 2 style)."
   ]
  },
  {
   "cell_type": "code",
   "execution_count": null,
   "metadata": {},
   "outputs": [],
   "source": [
    "# Correct:\n",
    "import os\n",
    "import sys\n",
    "\n",
    "from my_package import module1\n",
    "from my_package import module2\n",
    "\n",
    "# Incorrect:\n",
    "import os, sys\n",
    "\n",
    "# Correct import grouping:\n",
    "import os\n",
    "import sys\n",
    "\n",
    "import requests  # Third-party\n",
    "\n",
    "from . import my_local_module  # Explicit relative import, one dot means \"from the current directory/package.\"\n",
    "from my_app.utils import helper_function # Absolute import"
   ]
  },
  {
   "cell_type": "markdown",
   "metadata": {},
   "source": [
    "### 1.5 String Quotes\n",
    "\n",
    "* PEP 8 does not make a strong recommendation between single quotes (') and double quotes (\").  Pick a rule and stick to it. Be consistent.\n",
    "\n",
    "* Use double quotes to avoid escaping single quotes within a string, and vice-versa.\n",
    "\n",
    "* Triple quotes (\"\"\" or ''') are used for docstrings."
   ]
  },
  {
   "cell_type": "code",
   "execution_count": null,
   "metadata": {},
   "outputs": [
    {
     "name": "stdout",
     "output_type": "stream",
     "text": [
      "'\n",
      "\"\n"
     ]
    }
   ],
   "source": [
    "# Both are valid, but be consistent:\n",
    "my_string = 'Hello'\n",
    "another_string = \"World\"\n",
    "\n",
    "# Using double quotes to avoid escaping:\n",
    "message = \"He said, 'Hello!'\"\n",
    "\n",
    "# Docstring:\n",
    "def my_function():\n",
    "    \"\"\"This is a docstring explaining what the function does.\"\"\"\n",
    "    pass\n",
    "\n",
    "print(\"'\") # print single quote\n",
    "print('\"') # print double quote"
   ]
  },
  {
   "cell_type": "markdown",
   "metadata": {},
   "source": [
    "### 1.6 Whitespace in Expressions and Statements\n",
    "* Avoid extraneous whitespace in the following situations:\n",
    "    * Immediately inside parentheses, brackets, or braces.\n",
    "    * Immediately before a comma, semicolon, or colon.\n",
    "    * Immediately before the open parenthesis that starts the argument list of a function call.\n",
    "    * Immediately before the open bracket that starts an indexing or slicing.\n",
    "    * More than one space around an assignment (or other) operator to align it with another."
   ]
  },
  {
   "cell_type": "code",
   "execution_count": null,
   "metadata": {},
   "outputs": [],
   "source": [
    "# Correct:\n",
    "spam(ham[1], {eggs: 2})\n",
    "foo = (0,)\n",
    "if x == 4:\n",
    "    print(x, y)\n",
    "x, y = y, x\n",
    "\n",
    "# Incorrect:\n",
    "spam( ham[ 1 ], { eggs: 2 } )\n",
    "foo = (0, )\n",
    "if x == 4 :\n",
    "    print(x , y)\n",
    "x , y = y , x"
   ]
  },
  {
   "cell_type": "markdown",
   "metadata": {},
   "source": [
    "* Always surround these binary operators with a single space on either side:\n",
    "    * Assignment (=)\n",
    "    * Augmented assignment (+=, -=, etc.)\n",
    "    * Comparisons (==, <, >, !=, <=, >=, in, not in, is, is not)\n",
    "    * Booleans (and, or, not)"
   ]
  },
  {
   "cell_type": "code",
   "execution_count": null,
   "metadata": {},
   "outputs": [],
   "source": [
    "# Correct:\n",
    "x = 1\n",
    "y = x + 2\n",
    "if x > y:\n",
    "    print(\"x is greater\")\n",
    "\n",
    "# Incorrect:\n",
    "x=1\n",
    "y=x+2\n",
    "if x>y:\n",
    "    print (\"x is greater\")"
   ]
  },
  {
   "cell_type": "markdown",
   "metadata": {},
   "source": [
    "* If operators with different priorities are used, consider adding whitespace around the operators with the lowest priority(ies). Use your own judgment; however, never use more than one space, and always have the same amount of whitespace on both sides of a binary operator."
   ]
  },
  {
   "cell_type": "code",
   "execution_count": null,
   "metadata": {},
   "outputs": [],
   "source": [
    "# Correct:\n",
    "i = i + 1\n",
    "submitted += 1\n",
    "x = x*2 - 1\n",
    "hypot2 = x*x + y*y\n",
    "c = (a+b) * (a-b)\n",
    "\n",
    "# Incorrect:\n",
    "i=i+1\n",
    "submitted +=1\n",
    "x = x * 2 - 1\n",
    "hypot2 = x * x + y * y\n",
    "c = (a + b) * (a - b)"
   ]
  },
  {
   "cell_type": "markdown",
   "metadata": {},
   "source": [
    "## 2. Comments\n",
    "\n",
    "* **Comments that contradict the code are worse than no comments.** Always keep comments up-to-date when the code changes!\n",
    "\n",
    "* Comments should be complete sentences.\n",
    "\n",
    "* Use inline comments sparingly.\n",
    "\n",
    "* Write docstrings for all public modules, functions, classes, and methods.\n",
    "\n",
    "### 2.1 Block Comments\n",
    "\n",
    "* Apply to some (or all) code that follows them and are indented to the same level as that code.\n",
    "\n",
    "* Start each line with a # and a single space.\n",
    "\n",
    "* Separate paragraphs by a line containing a single #."
   ]
  },
  {
   "cell_type": "code",
   "execution_count": null,
   "metadata": {},
   "outputs": [],
   "source": [
    "def my_function():\n",
    "    # This is a block comment\n",
    "    # explaining the following code.\n",
    "    #\n",
    "    # We are doing something important here.\n",
    "\n",
    "    x = 1\n",
    "    y = 2\n",
    "    return x + y"
   ]
  },
  {
   "cell_type": "markdown",
   "metadata": {},
   "source": [
    "### 2.2 Inline Comments\n",
    "* Use sparingly. (谨慎使用)\n",
    "* An inline comment is a comment on the same line as a statement.\n",
    "* Separate inline comments by at least two spaces from the statement.\n",
    "* Start with a # and a single space.\n",
    "* Inline comments are unnecessary and in fact distracting if they state the obvious."
   ]
  },
  {
   "cell_type": "code",
   "execution_count": null,
   "metadata": {},
   "outputs": [],
   "source": [
    "x = x + 1  # Increment x"
   ]
  },
  {
   "cell_type": "markdown",
   "metadata": {},
   "source": [
    "### 2.3 Documentation Strings (Docstrings)\n",
    "\n",
    "* Write docstrings for all public modules, functions, classes, and methods.\n",
    "* Use triple double quotes (\"\"\").\n",
    "* **The first line should be a short, concise summary of the object's purpose**.\n",
    "* **For multi-line docstrings, have a blank line after the summary line**, followed by a more detailed description."
   ]
  },
  {
   "cell_type": "code",
   "execution_count": null,
   "metadata": {},
   "outputs": [],
   "source": [
    "def my_function(arg1, arg2):\n",
    "    \"\"\"Summary line: This function does something.\n",
    "\n",
    "    More detailed description of what the function does,\n",
    "    including information about the arguments and return value.\n",
    "\n",
    "    Args:\n",
    "        arg1: Description of arg1.\n",
    "        arg2: Description of arg2.\n",
    "\n",
    "    Returns:\n",
    "        Description of the return value.\n",
    "    \"\"\"\n",
    "    pass"
   ]
  },
  {
   "cell_type": "markdown",
   "metadata": {},
   "source": [
    "## 3. Naming Conventions\n",
    "Consistent naming is crucially important for readability\n",
    "\n",
    "### 3.1 General Principles\n",
    "* Avoid using names that are too short and meaningless (e.g., x, i, j are often okay as loop counters, but not for much else).\n",
    "* Avoid using names that are too long and verbose.\n",
    "* **Be consistent.** If you use camelCase in one part of your code, don't switch to snake_case elsewhere.\n",
    "\n",
    "### 3.2 Naming Styles\n",
    "\n",
    "* **snake_case**: Lowercase words separated by underscores (e.g., my_variable_name).  Used for:\n",
    "    * Function names\n",
    "    * Method names\n",
    "    * Variable names\n",
    "    * Module names\n",
    "    * Package names (also, packages should have short, all-lowercase names, preferably without underscores).\n",
    "\n",
    "* **camelCase**: Words are concatenated, with the first letter of each word (except the first) capitalized (e.g., myVariableName).  Less common in Python, but sometimes used.\n",
    "\n",
    "* **PascalCase (also called UpperCamelCase)**: Like camelCase, but the first letter is also capitalized (e.g., MyClassName).  Used for: **Class names**\n",
    "\n",
    "* **UPPER_CASE_WITH_UNDERSCORES**: All uppercase letters with words separated by underscores (e.g., CONSTANT_VALUE).  Used for: **Constant**\n",
    "\n",
    "### 3.3 Specific Recommendations\n",
    "\n",
    "**Classes**: PascalCase\n",
    "\n",
    "**Functions and Methods**: snake_case\n",
    "\n",
    "**Variables**: snake_case\n",
    "\n",
    "**Constants**: UPPER_CASE_WITH_UNDERSCORES\n",
    "\n",
    "**Modules**: snake_case (short, all-lowercase names)\n",
    "\n",
    "**Packages**: snake_case (short, all-lowercase names)\n",
    "\n",
    "**Single Leading Underscore (_variable)**: Indicates a \"weak internal use\" indicator.  from module import * does not import names starting with an underscore.\n",
    "\n",
    "**Single Trailing Underscore (variable_)**: Used by convention to avoid conflicts with Python keywords (e.g., class_).\n",
    "\n",
    "**Double Leading Underscore (__variable)**: When naming a class attribute, invokes name mangling (inside class FooBar, __boo becomes _FooBar__boo). This is used to avoid name clashes with subclasses.\n",
    "\n",
    "**Double Leading and Trailing Underscores (__variable__)**: \"Magic\" objects or attributes that live in user-controlled namespaces. E.g., __init__, __file__, __name__.  Don't invent such names; only use them as documented.\n"
   ]
  },
  {
   "cell_type": "code",
   "execution_count": null,
   "metadata": {},
   "outputs": [],
   "source": [
    "# Class names:\n",
    "class MyClass:\n",
    "    pass\n",
    "\n",
    "# Function and method names:\n",
    "def my_function():\n",
    "    pass\n",
    "\n",
    "# Variable names:\n",
    "my_variable = 10\n",
    "\n",
    "# Constants:\n",
    "MAX_VALUE = 100\n",
    "\n",
    "#Module names:\n",
    "#my_module.py\n",
    "\n",
    "# Package names:\n",
    "#mypackage/\n",
    "\n",
    "#Avoiding conflicts\n",
    "class_ = \"example\""
   ]
  },
  {
   "cell_type": "markdown",
   "metadata": {},
   "source": [
    "## 4. Programming Recommendations\n",
    "### 4.1 Comparisons to Singletons\n",
    "* Comparisons to singletons like None should always be done with \"is\" or \"is not\", never the equality operators (==, !=).   \n"
   ]
  },
  {
   "cell_type": "code",
   "execution_count": null,
   "metadata": {},
   "outputs": [],
   "source": [
    "# Correct:\n",
    "if my_variable is None:\n",
    "    pass\n",
    "\n",
    "# Incorrect:\n",
    "if my_variable == None:\n",
    "    pass"
   ]
  },
  {
   "cell_type": "markdown",
   "metadata": {},
   "source": [
    "### 4.2 isinstance() vs. type()\n",
    "* Use isinstance() rather than type() to compare an object's type. isinstance() correctly handles subclasses."
   ]
  },
  {
   "cell_type": "code",
   "execution_count": null,
   "metadata": {},
   "outputs": [],
   "source": [
    "# The isinstance() function in Python is a built-in function used to check if an object \n",
    "# belongs to a specified class or a tuple of classes. \n",
    "# It's a fundamental tool for type checking and ensuring that your code handles different data types correctly.\n",
    "\n",
    "# Correct:\n",
    "if isinstance(my_object, MyClass):\n",
    "    pass\n",
    "   \n",
    "# Incorrect:\n",
    "if type(my_object) is MyClass:\n",
    "    pass\n",
    "\n",
    "# The incorrect version would return False if my_object were an instance \n",
    "# of a subclass of MyClass."
   ]
  },
  {
   "cell_type": "markdown",
   "metadata": {},
   "source": [
    "### 4.3 Sequence Checks\n",
    "* For sequences (strings, lists, tuples), use the fact that empty sequences are false."
   ]
  },
  {
   "cell_type": "code",
   "execution_count": null,
   "metadata": {},
   "outputs": [
    {
     "name": "stdout",
     "output_type": "stream",
     "text": [
      "List is empty\n",
      "List is empty\n"
     ]
    },
    {
     "ename": "",
     "evalue": "",
     "output_type": "error",
     "traceback": [
      "\u001b[1;31mThe Kernel crashed while executing code in the current cell or a previous cell. \n",
      "\u001b[1;31mPlease review the code in the cell(s) to identify a possible cause of the failure. \n",
      "\u001b[1;31mClick <a href='https://aka.ms/vscodeJupyterKernelCrash'>here</a> for more info. \n",
      "\u001b[1;31mView Jupyter <a href='command:jupyter.viewOutput'>log</a> for further details."
     ]
    }
   ],
   "source": [
    "my_list = []\n",
    "\n",
    "# Correct:\n",
    "if not my_list:\n",
    "    print(\"List is empty\")\n",
    "\n",
    "# Incorrect:\n",
    "if len(my_list) == 0:\n",
    "    print(\"List is empty\")"
   ]
  },
  {
   "cell_type": "markdown",
   "metadata": {},
   "source": [
    "### 4.4 Boolean Comparisons\n",
    "* Don't compare boolean values to True or False using ==."
   ]
  },
  {
   "cell_type": "code",
   "execution_count": null,
   "metadata": {},
   "outputs": [],
   "source": [
    "my_bool = condition_is_true()\n",
    "\n",
    "# Correct\n",
    "if my_bool:\n",
    "    #do something\n",
    "    pass\n",
    "# Also correct\n",
    "if not my_bool:\n",
    "   #do something\n",
    "   pass\n",
    "\n",
    "# Incorrect:\n",
    "if my_bool == True:\n",
    "    #do something\n",
    "    pass\n",
    "\n",
    "# Also incorrect\n",
    "if my_bool is False:\n",
    "    #do something\n",
    "    pass"
   ]
  },
  {
   "cell_type": "markdown",
   "metadata": {},
   "source": [
    "### 4.5 Function Annotations (Type Hints)\n",
    "* Function annotations should use the normal rules for colons, and always have spaces around the -> arrow."
   ]
  },
  {
   "cell_type": "code",
   "execution_count": null,
   "metadata": {},
   "outputs": [],
   "source": [
    "# Correct:\n",
    "def munge(input: AnyStr): ...\n",
    "def munge() -> AnyStr: ...\n",
    "\n",
    "# Incorrect:\n",
    "def munge(input:AnyStr): ...\n",
    "def munge()->PosInt: ..."
   ]
  },
  {
   "cell_type": "markdown",
   "metadata": {},
   "source": [
    "### 4.6 Method and variable annotations\n",
    "* When using annotations, put a single space after the colon, but not before, following the format variable_name: annotation = value"
   ]
  },
  {
   "cell_type": "code",
   "execution_count": null,
   "metadata": {},
   "outputs": [],
   "source": [
    "# Correct:\n",
    "my_string: str = \"example\"\n",
    "my_int: int\n",
    "\n",
    "#Incorrect:\n",
    "my_string : str = \"example\"\n",
    "my_int:int"
   ]
  },
  {
   "cell_type": "markdown",
   "metadata": {},
   "source": [
    "## 5. Using Linters\n",
    "* Use a linter like flake8, pylint, or pycodestyle (formerly known as pep8).  These tools automatically check your code for PEP 8 violations (and other potential issues).  They can be integrated into your editor or IDE.  This is highly recommended.\n",
    "\n",
    "To install **pycodestyle**, use pip:"
   ]
  },
  {
   "cell_type": "code",
   "execution_count": null,
   "metadata": {},
   "outputs": [],
   "source": [
    "pip install pycodestyle\n",
    "\n",
    "# To run it:\n",
    "pycodestyle my_file.py\n",
    "\n",
    "# To install flake8 (which includes pycodestyle and other checks):\n",
    "pip install flake8\n",
    "\n",
    "# To run it:\n",
    "flake8 my_file.py\n",
    "\n",
    "# pylint is another popular option, offering more in-depth analysis:\n",
    "pip install pylint\n",
    "\n",
    "# To run it:\n",
    "pylint my_file.py"
   ]
  },
  {
   "cell_type": "markdown",
   "metadata": {},
   "source": [
    "# Conclusion\n",
    "\n",
    "PEP 8 is a valuable resource for writing clean, readable, and maintainable Python code. While it might seem strict at first, following these guidelines will ultimately make your coding life easier and improve the quality of your projects.  Using a linter is the best way to ensure you're adhering to PEP 8. Remember that consistency is key, even within the flexibility that PEP 8 allows."
   ]
  }
 ],
 "metadata": {
  "kernelspec": {
   "display_name": "base",
   "language": "python",
   "name": "python3"
  },
  "language_info": {
   "codemirror_mode": {
    "name": "ipython",
    "version": 3
   },
   "file_extension": ".py",
   "mimetype": "text/x-python",
   "name": "python",
   "nbconvert_exporter": "python",
   "pygments_lexer": "ipython3",
   "version": "3.12.7"
  }
 },
 "nbformat": 4,
 "nbformat_minor": 2
}
